{
 "cells": [
  {
   "cell_type": "markdown",
   "id": "872d6714",
   "metadata": {},
   "source": [
    "# Python ka Chilla with Ammar\n",
    "## How to use Jupyter Notebook\n",
    "### Basic Python Programing\n",
    "1- My first program in python \n",
    "\n",
    "2- My second program in Python"
   ]
  },
  {
   "cell_type": "code",
   "execution_count": 3,
   "id": "d6e74ac4",
   "metadata": {},
   "outputs": [],
   "source": [
    "# x=5+8\n",
    "# print (x)\n",
    "# print (type(x))\n",
    "# x=20\n",
    "# y=50\n",
    "# print (x+y)"
   ]
  },
  {
   "cell_type": "code",
   "execution_count": null,
   "id": "d449eb7a",
   "metadata": {},
   "outputs": [],
   "source": [
    "pip install plotly"
   ]
  },
  {
   "cell_type": "code",
   "execution_count": null,
   "id": "cf155847",
   "metadata": {},
   "outputs": [],
   "source": []
  }
 ],
 "metadata": {
  "kernelspec": {
   "display_name": "Python 3 (ipykernel)",
   "language": "python",
   "name": "python3"
  },
  "language_info": {
   "codemirror_mode": {
    "name": "ipython",
    "version": 3
   },
   "file_extension": ".py",
   "mimetype": "text/x-python",
   "name": "python",
   "nbconvert_exporter": "python",
   "pygments_lexer": "ipython3",
   "version": "3.9.7"
  }
 },
 "nbformat": 4,
 "nbformat_minor": 5
}
